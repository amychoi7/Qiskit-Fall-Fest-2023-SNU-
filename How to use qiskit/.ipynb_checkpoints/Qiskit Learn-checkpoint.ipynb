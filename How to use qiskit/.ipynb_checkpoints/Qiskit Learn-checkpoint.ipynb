{
 "cells": [
  {
   "cell_type": "markdown",
   "id": "310a5e4f",
   "metadata": {},
   "source": [
    "# Prerequisites"
   ]
  },
  {
   "cell_type": "markdown",
   "id": "07ac2dbd",
   "metadata": {},
   "source": [
    "## Environment Setup Guide to work with Qiskit Textbook"
   ]
  },
  {
   "cell_type": "markdown",
   "id": "f5799f21",
   "metadata": {},
   "source": [
    "Installing the qiskit_textbook Package"
   ]
  },
  {
   "cell_type": "code",
   "execution_count": 1,
   "id": "402c97df",
   "metadata": {},
   "outputs": [
    {
     "name": "stdout",
     "output_type": "stream",
     "text": [
      "Collecting git+https://github.com/qiskit-community/qiskit-textbook.git#subdirectory=qiskit-textbook-src\n",
      "  Cloning https://github.com/qiskit-community/qiskit-textbook.git to c:\\users\\amych\\appdata\\local\\temp\\pip-req-build-mmxzchab\n",
      "  Resolved https://github.com/qiskit-community/qiskit-textbook.git to commit 0ae905083ec3872d7ddc6bb4001d5468f476d93f\n",
      "  Preparing metadata (setup.py): started\n",
      "  Preparing metadata (setup.py): finished with status 'done'\n",
      "Requirement already satisfied: qiskit in c:\\users\\amych\\appdata\\local\\programs\\python\\python311\\lib\\site-packages (from qiskit-textbook==0.1.0) (0.44.3)\n",
      "Requirement already satisfied: ipython in c:\\users\\amych\\appdata\\local\\programs\\python\\python311\\lib\\site-packages (from qiskit-textbook==0.1.0) (8.13.2)\n",
      "Requirement already satisfied: ipywidgets in c:\\users\\amych\\appdata\\local\\programs\\python\\python311\\lib\\site-packages (from qiskit-textbook==0.1.0) (8.0.6)\n",
      "Requirement already satisfied: numpy in c:\\users\\amych\\appdata\\local\\programs\\python\\python311\\lib\\site-packages (from qiskit-textbook==0.1.0) (1.24.3)\n",
      "Requirement already satisfied: matplotlib in c:\\users\\amych\\appdata\\local\\programs\\python\\python311\\lib\\site-packages (from qiskit-textbook==0.1.0) (3.7.2)\n",
      "Collecting numexpr (from qiskit-textbook==0.1.0)\n",
      "  Downloading numexpr-2.8.7-cp311-cp311-win_amd64.whl.metadata (8.9 kB)\n",
      "Requirement already satisfied: backcall in c:\\users\\amych\\appdata\\local\\programs\\python\\python311\\lib\\site-packages (from ipython->qiskit-textbook==0.1.0) (0.2.0)\n",
      "Requirement already satisfied: decorator in c:\\users\\amych\\appdata\\local\\programs\\python\\python311\\lib\\site-packages (from ipython->qiskit-textbook==0.1.0) (5.1.1)\n",
      "Requirement already satisfied: jedi>=0.16 in c:\\users\\amych\\appdata\\local\\programs\\python\\python311\\lib\\site-packages (from ipython->qiskit-textbook==0.1.0) (0.18.2)\n",
      "Requirement already satisfied: matplotlib-inline in c:\\users\\amych\\appdata\\local\\programs\\python\\python311\\lib\\site-packages (from ipython->qiskit-textbook==0.1.0) (0.1.6)\n",
      "Requirement already satisfied: pickleshare in c:\\users\\amych\\appdata\\local\\programs\\python\\python311\\lib\\site-packages (from ipython->qiskit-textbook==0.1.0) (0.7.5)\n",
      "Requirement already satisfied: prompt-toolkit!=3.0.37,<3.1.0,>=3.0.30 in c:\\users\\amych\\appdata\\local\\programs\\python\\python311\\lib\\site-packages (from ipython->qiskit-textbook==0.1.0) (3.0.38)\n",
      "Requirement already satisfied: pygments>=2.4.0 in c:\\users\\amych\\appdata\\local\\programs\\python\\python311\\lib\\site-packages (from ipython->qiskit-textbook==0.1.0) (2.15.1)\n",
      "Requirement already satisfied: stack-data in c:\\users\\amych\\appdata\\local\\programs\\python\\python311\\lib\\site-packages (from ipython->qiskit-textbook==0.1.0) (0.6.2)\n",
      "Requirement already satisfied: traitlets>=5 in c:\\users\\amych\\appdata\\local\\programs\\python\\python311\\lib\\site-packages (from ipython->qiskit-textbook==0.1.0) (5.9.0)\n",
      "Requirement already satisfied: colorama in c:\\users\\amych\\appdata\\local\\programs\\python\\python311\\lib\\site-packages (from ipython->qiskit-textbook==0.1.0) (0.4.6)\n",
      "Requirement already satisfied: ipykernel>=4.5.1 in c:\\users\\amych\\appdata\\local\\programs\\python\\python311\\lib\\site-packages (from ipywidgets->qiskit-textbook==0.1.0) (6.22.0)\n",
      "Requirement already satisfied: widgetsnbextension~=4.0.7 in c:\\users\\amych\\appdata\\local\\programs\\python\\python311\\lib\\site-packages (from ipywidgets->qiskit-textbook==0.1.0) (4.0.7)\n",
      "Requirement already satisfied: jupyterlab-widgets~=3.0.7 in c:\\users\\amych\\appdata\\local\\programs\\python\\python311\\lib\\site-packages (from ipywidgets->qiskit-textbook==0.1.0) (3.0.7)\n",
      "Requirement already satisfied: contourpy>=1.0.1 in c:\\users\\amych\\appdata\\local\\programs\\python\\python311\\lib\\site-packages (from matplotlib->qiskit-textbook==0.1.0) (1.1.0)\n",
      "Requirement already satisfied: cycler>=0.10 in c:\\users\\amych\\appdata\\local\\programs\\python\\python311\\lib\\site-packages (from matplotlib->qiskit-textbook==0.1.0) (0.11.0)\n",
      "Requirement already satisfied: fonttools>=4.22.0 in c:\\users\\amych\\appdata\\local\\programs\\python\\python311\\lib\\site-packages (from matplotlib->qiskit-textbook==0.1.0) (4.41.0)\n",
      "Requirement already satisfied: kiwisolver>=1.0.1 in c:\\users\\amych\\appdata\\local\\programs\\python\\python311\\lib\\site-packages (from matplotlib->qiskit-textbook==0.1.0) (1.4.4)\n",
      "Requirement already satisfied: packaging>=20.0 in c:\\users\\amych\\appdata\\local\\programs\\python\\python311\\lib\\site-packages (from matplotlib->qiskit-textbook==0.1.0) (23.1)\n",
      "Requirement already satisfied: pillow>=6.2.0 in c:\\users\\amych\\appdata\\local\\programs\\python\\python311\\lib\\site-packages (from matplotlib->qiskit-textbook==0.1.0) (10.0.0)\n",
      "Requirement already satisfied: pyparsing<3.1,>=2.3.1 in c:\\users\\amych\\appdata\\local\\programs\\python\\python311\\lib\\site-packages (from matplotlib->qiskit-textbook==0.1.0) (3.0.9)\n",
      "Requirement already satisfied: python-dateutil>=2.7 in c:\\users\\amych\\appdata\\local\\programs\\python\\python311\\lib\\site-packages (from matplotlib->qiskit-textbook==0.1.0) (2.8.2)\n",
      "Requirement already satisfied: qiskit-terra==0.25.3 in c:\\users\\amych\\appdata\\local\\programs\\python\\python311\\lib\\site-packages (from qiskit->qiskit-textbook==0.1.0) (0.25.3)\n",
      "Requirement already satisfied: rustworkx>=0.13.0 in c:\\users\\amych\\appdata\\local\\programs\\python\\python311\\lib\\site-packages (from qiskit-terra==0.25.3->qiskit->qiskit-textbook==0.1.0) (0.13.2)\n",
      "Requirement already satisfied: ply>=3.10 in c:\\users\\amych\\appdata\\local\\programs\\python\\python311\\lib\\site-packages (from qiskit-terra==0.25.3->qiskit->qiskit-textbook==0.1.0) (3.11)\n",
      "Requirement already satisfied: psutil>=5 in c:\\users\\amych\\appdata\\local\\programs\\python\\python311\\lib\\site-packages (from qiskit-terra==0.25.3->qiskit->qiskit-textbook==0.1.0) (5.9.5)\n",
      "Requirement already satisfied: scipy>=1.5 in c:\\users\\amych\\appdata\\local\\programs\\python\\python311\\lib\\site-packages (from qiskit-terra==0.25.3->qiskit->qiskit-textbook==0.1.0) (1.11.1)\n",
      "Requirement already satisfied: sympy>=1.3 in c:\\users\\amych\\appdata\\local\\programs\\python\\python311\\lib\\site-packages (from qiskit-terra==0.25.3->qiskit->qiskit-textbook==0.1.0) (1.12)\n",
      "Requirement already satisfied: dill>=0.3 in c:\\users\\amych\\appdata\\local\\programs\\python\\python311\\lib\\site-packages (from qiskit-terra==0.25.3->qiskit->qiskit-textbook==0.1.0) (0.3.7)\n",
      "Requirement already satisfied: stevedore>=3.0.0 in c:\\users\\amych\\appdata\\local\\programs\\python\\python311\\lib\\site-packages (from qiskit-terra==0.25.3->qiskit->qiskit-textbook==0.1.0) (5.1.0)\n",
      "Requirement already satisfied: comm>=0.1.1 in c:\\users\\amych\\appdata\\local\\programs\\python\\python311\\lib\\site-packages (from ipykernel>=4.5.1->ipywidgets->qiskit-textbook==0.1.0) (0.1.3)\n",
      "Requirement already satisfied: debugpy>=1.6.5 in c:\\users\\amych\\appdata\\local\\programs\\python\\python311\\lib\\site-packages (from ipykernel>=4.5.1->ipywidgets->qiskit-textbook==0.1.0) (1.6.7)\n",
      "Requirement already satisfied: jupyter-client>=6.1.12 in c:\\users\\amych\\appdata\\local\\programs\\python\\python311\\lib\\site-packages (from ipykernel>=4.5.1->ipywidgets->qiskit-textbook==0.1.0) (8.2.0)\n",
      "Requirement already satisfied: jupyter-core!=5.0.*,>=4.12 in c:\\users\\amych\\appdata\\local\\programs\\python\\python311\\lib\\site-packages (from ipykernel>=4.5.1->ipywidgets->qiskit-textbook==0.1.0) (5.3.0)\n",
      "Requirement already satisfied: nest-asyncio in c:\\users\\amych\\appdata\\local\\programs\\python\\python311\\lib\\site-packages (from ipykernel>=4.5.1->ipywidgets->qiskit-textbook==0.1.0) (1.5.6)\n",
      "Requirement already satisfied: pyzmq>=20 in c:\\users\\amych\\appdata\\local\\programs\\python\\python311\\lib\\site-packages (from ipykernel>=4.5.1->ipywidgets->qiskit-textbook==0.1.0) (25.0.2)\n",
      "Requirement already satisfied: tornado>=6.1 in c:\\users\\amych\\appdata\\local\\programs\\python\\python311\\lib\\site-packages (from ipykernel>=4.5.1->ipywidgets->qiskit-textbook==0.1.0) (6.3.1)\n",
      "Requirement already satisfied: parso<0.9.0,>=0.8.0 in c:\\users\\amych\\appdata\\local\\programs\\python\\python311\\lib\\site-packages (from jedi>=0.16->ipython->qiskit-textbook==0.1.0) (0.8.3)\n",
      "Requirement already satisfied: wcwidth in c:\\users\\amych\\appdata\\local\\programs\\python\\python311\\lib\\site-packages (from prompt-toolkit!=3.0.37,<3.1.0,>=3.0.30->ipython->qiskit-textbook==0.1.0) (0.2.6)\n",
      "Requirement already satisfied: six>=1.5 in c:\\users\\amych\\appdata\\local\\programs\\python\\python311\\lib\\site-packages (from python-dateutil>=2.7->matplotlib->qiskit-textbook==0.1.0) (1.16.0)\n",
      "Requirement already satisfied: executing>=1.2.0 in c:\\users\\amych\\appdata\\local\\programs\\python\\python311\\lib\\site-packages (from stack-data->ipython->qiskit-textbook==0.1.0) (1.2.0)\n",
      "Requirement already satisfied: asttokens>=2.1.0 in c:\\users\\amych\\appdata\\local\\programs\\python\\python311\\lib\\site-packages (from stack-data->ipython->qiskit-textbook==0.1.0) (2.2.1)\n",
      "Requirement already satisfied: pure-eval in c:\\users\\amych\\appdata\\local\\programs\\python\\python311\\lib\\site-packages (from stack-data->ipython->qiskit-textbook==0.1.0) (0.2.2)\n",
      "Requirement already satisfied: platformdirs>=2.5 in c:\\users\\amych\\appdata\\local\\programs\\python\\python311\\lib\\site-packages (from jupyter-core!=5.0.*,>=4.12->ipykernel>=4.5.1->ipywidgets->qiskit-textbook==0.1.0) (3.5.0)\n",
      "Requirement already satisfied: pywin32>=300 in c:\\users\\amych\\appdata\\local\\programs\\python\\python311\\lib\\site-packages (from jupyter-core!=5.0.*,>=4.12->ipykernel>=4.5.1->ipywidgets->qiskit-textbook==0.1.0) (306)\n",
      "Requirement already satisfied: pbr!=2.1.0,>=2.0.0 in c:\\users\\amych\\appdata\\local\\programs\\python\\python311\\lib\\site-packages (from stevedore>=3.0.0->qiskit-terra==0.25.3->qiskit->qiskit-textbook==0.1.0) (5.11.1)\n",
      "Requirement already satisfied: mpmath>=0.19 in c:\\users\\amych\\appdata\\local\\programs\\python\\python311\\lib\\site-packages (from sympy>=1.3->qiskit-terra==0.25.3->qiskit->qiskit-textbook==0.1.0) (1.3.0)\n",
      "Downloading numexpr-2.8.7-cp311-cp311-win_amd64.whl (95 kB)\n",
      "   ---------------------------------------- 0.0/95.3 kB ? eta -:--:--\n",
      "   -------------------------------------- - 92.2/95.3 kB 5.5 MB/s eta 0:00:01\n",
      "   ---------------------------------------- 95.3/95.3 kB 1.8 MB/s eta 0:00:00\n",
      "Building wheels for collected packages: qiskit-textbook\n",
      "  Building wheel for qiskit-textbook (setup.py): started\n",
      "  Building wheel for qiskit-textbook (setup.py): finished with status 'done'\n",
      "  Created wheel for qiskit-textbook: filename=qiskit_textbook-0.1.0-py3-none-any.whl size=17644 sha256=ef3f87fdc72774383d25ad5079ef33c0921b855f478f44999479d64d218e8cf8\n",
      "  Stored in directory: C:\\Users\\amych\\AppData\\Local\\Temp\\pip-ephem-wheel-cache-hloh88rk\\wheels\\5a\\2a\\08\\67b54fc8407df4542bb0f23a3b063efaddaf6a37b48497b393\n",
      "Successfully built qiskit-textbook\n",
      "Installing collected packages: numexpr, qiskit-textbook\n",
      "Successfully installed numexpr-2.8.7 qiskit-textbook-0.1.0\n",
      "Note: you may need to restart the kernel to use updated packages.\n"
     ]
    },
    {
     "name": "stderr",
     "output_type": "stream",
     "text": [
      "  Running command git clone --filter=blob:none --quiet https://github.com/qiskit-community/qiskit-textbook.git 'C:\\Users\\amych\\AppData\\Local\\Temp\\pip-req-build-mmxzchab'\n"
     ]
    }
   ],
   "source": [
    "pip install git+https://github.com/qiskit-community/qiskit-textbook.git#subdirectory=qiskit-textbook-src"
   ]
  },
  {
   "cell_type": "markdown",
   "id": "ac483125",
   "metadata": {},
   "source": [
    "Steps to reproduce exact prerendered output as given in qiskit textbook (Optional)"
   ]
  },
  {
   "cell_type": "code",
   "execution_count": 7,
   "id": "9f7039ff",
   "metadata": {},
   "outputs": [],
   "source": [
    "# 1. Setting up default drawer to MatPlotLib\n",
    "\n",
    "# 2. Setting up default image type to svg -> fail\n",
    "\n",
    "# 3. Installing the LaTeX parser"
   ]
  },
  {
   "cell_type": "code",
   "execution_count": 8,
   "id": "542a4001",
   "metadata": {},
   "outputs": [
    {
     "data": {
      "text/html": [
       "<h3>Version Information</h3><table><tr><th>Software</th><th>Version</th></tr><tr><td><code>qiskit</code></td><td>0.44.3</td></tr><tr><td><code>qiskit-terra</code></td><td>0.25.3</td></tr><tr><th colspan='2'>System information</th></tr><tr><td>Python version</td><td>3.11.3</td></tr><tr><td>Python compiler</td><td>MSC v.1934 64 bit (AMD64)</td></tr><tr><td>Python build</td><td>tags/v3.11.3:f3909b8, Apr  4 2023 23:49:59</td></tr><tr><td>OS</td><td>Windows</td></tr><tr><td>CPUs</td><td>14</td></tr><tr><td>Memory (Gb)</td><td>15.692127227783203</td></tr><tr><td colspan='2'>Thu Nov 09 17:31:08 2023 대한민국 표준시</td></tr></table>"
      ],
      "text/plain": [
       "<IPython.core.display.HTML object>"
      ]
     },
     "metadata": {},
     "output_type": "display_data"
    }
   ],
   "source": [
    "# 4. Syncing with the Qiskit versions used in the Textbook\n",
    "import qiskit.tools.jupyter\n",
    "%qiskit_version_table"
   ]
  },
  {
   "cell_type": "markdown",
   "id": "4d5650b9",
   "metadata": {},
   "source": [
    "## Introduction to Python and Jupyter notebooks"
   ]
  },
  {
   "cell_type": "code",
   "execution_count": 9,
   "id": "e1e16da7",
   "metadata": {},
   "outputs": [],
   "source": [
    "an_integer = 42 # Just an integer\n",
    "a_float = 0.1 # A non-integer number, up to a fixed precision\n",
    "a_boolean = True # A value that can be True or False\n",
    "a_string = '''just enclose text between two 's, or two \"s, or do what we did for this string''' # Text\n",
    "none_of_the_above = None # The absence of any actual value or variable type"
   ]
  },
  {
   "cell_type": "code",
   "execution_count": 10,
   "id": "78ee2a59",
   "metadata": {},
   "outputs": [],
   "source": [
    "a_list = [0, 1, 2, 3]"
   ]
  },
  {
   "cell_type": "code",
   "execution_count": 11,
   "id": "ddb4a47a",
   "metadata": {},
   "outputs": [],
   "source": [
    "a_list = [ 42, 0.5, True, [0,1], None, 'Banana' ]"
   ]
  },
  {
   "cell_type": "code",
   "execution_count": 12,
   "id": "8c979dd4",
   "metadata": {},
   "outputs": [
    {
     "data": {
      "text/plain": [
       "42"
      ]
     },
     "execution_count": 12,
     "metadata": {},
     "output_type": "execute_result"
    }
   ],
   "source": [
    "a_list[0]"
   ]
  },
  {
   "cell_type": "code",
   "execution_count": 13,
   "id": "9be5391b",
   "metadata": {},
   "outputs": [
    {
     "data": {
      "text/plain": [
       "42"
      ]
     },
     "execution_count": 13,
     "metadata": {},
     "output_type": "execute_result"
    }
   ],
   "source": [
    "a_tuple = ( 42, 0.5, True, [0,1], None, 'Banana' )\n",
    "a_tuple[0]"
   ]
  },
  {
   "cell_type": "code",
   "execution_count": 14,
   "id": "28bdfb4c",
   "metadata": {},
   "outputs": [
    {
     "name": "stdout",
     "output_type": "stream",
     "text": [
      "[42, 0.5, True, [0, 1], None, 'apple']\n"
     ]
    }
   ],
   "source": [
    "a_list[5] = 'apple'\n",
    "\n",
    "print(a_list)"
   ]
  },
  {
   "cell_type": "code",
   "execution_count": 15,
   "id": "a19bad37",
   "metadata": {},
   "outputs": [
    {
     "ename": "TypeError",
     "evalue": "'tuple' object does not support item assignment",
     "output_type": "error",
     "traceback": [
      "\u001b[1;31m---------------------------------------------------------------------\u001b[0m",
      "\u001b[1;31mTypeError\u001b[0m                           Traceback (most recent call last)",
      "Cell \u001b[1;32mIn[15], line 1\u001b[0m\n\u001b[1;32m----> 1\u001b[0m \u001b[43ma_tuple\u001b[49m\u001b[43m[\u001b[49m\u001b[38;5;241;43m5\u001b[39;49m\u001b[43m]\u001b[49m \u001b[38;5;241m=\u001b[39m \u001b[38;5;124m'\u001b[39m\u001b[38;5;124mapple\u001b[39m\u001b[38;5;124m'\u001b[39m\n",
      "\u001b[1;31mTypeError\u001b[0m: 'tuple' object does not support item assignment"
     ]
    }
   ],
   "source": [
    "a_tuple[5] = 'apple' # tuples cannot be changed"
   ]
  },
  {
   "cell_type": "code",
   "execution_count": 16,
   "id": "a7c8a346",
   "metadata": {},
   "outputs": [
    {
     "name": "stdout",
     "output_type": "stream",
     "text": [
      "[42, 0.5, True, [0, 1], None, 'apple', 3.14]\n"
     ]
    }
   ],
   "source": [
    "a_list.append( 3.14 )\n",
    "\n",
    "print(a_list)"
   ]
  },
  {
   "cell_type": "code",
   "execution_count": 17,
   "id": "a757391b",
   "metadata": {},
   "outputs": [],
   "source": [
    "# Values can be any data type. Keys can be anything sufficiently simple (integer, float, Boolean, string). It cannot be a list, but it can be a tuple.\n",
    "\n",
    "a_dict = { 1:'This is the value, for the key 1', 'This is the key for a value 1':1, False:':)', (0,1):256 }"
   ]
  },
  {
   "cell_type": "code",
   "execution_count": 18,
   "id": "4c8d51ca",
   "metadata": {},
   "outputs": [
    {
     "data": {
      "text/plain": [
       "1"
      ]
     },
     "execution_count": 18,
     "metadata": {},
     "output_type": "execute_result"
    }
   ],
   "source": [
    "a_dict['This is the key for a value 1']"
   ]
  },
  {
   "cell_type": "code",
   "execution_count": 19,
   "id": "78abd695",
   "metadata": {},
   "outputs": [],
   "source": [
    "a_dict['new key'] = 'new_value'"
   ]
  },
  {
   "cell_type": "code",
   "execution_count": 20,
   "id": "46af727e",
   "metadata": {},
   "outputs": [
    {
     "name": "stdout",
     "output_type": "stream",
     "text": [
      "0\n",
      "1\n",
      "2\n",
      "3\n",
      "4\n"
     ]
    }
   ],
   "source": [
    "for j in range(5):\n",
    "    print(j)"
   ]
  },
  {
   "cell_type": "code",
   "execution_count": 21,
   "id": "32646809",
   "metadata": {},
   "outputs": [
    {
     "name": "stdout",
     "output_type": "stream",
     "text": [
      "42\n",
      "0.5\n",
      "True\n",
      "[0, 1]\n",
      "None\n",
      "apple\n",
      "3.14\n"
     ]
    }
   ],
   "source": [
    "for j in a_list:\n",
    "    print(j)"
   ]
  },
  {
   "cell_type": "code",
   "execution_count": 22,
   "id": "27b9fcc8",
   "metadata": {},
   "outputs": [
    {
     "name": "stdout",
     "output_type": "stream",
     "text": [
      "key = 1\n",
      "value = This is the value, for the key 1\n",
      "\n",
      "key = This is the key for a value 1\n",
      "value = 1\n",
      "\n",
      "key = False\n",
      "value = :)\n",
      "\n",
      "key = (0, 1)\n",
      "value = 256\n",
      "\n",
      "key = new key\n",
      "value = new_value\n",
      "\n"
     ]
    }
   ],
   "source": [
    "for key in a_dict:\n",
    "    value = a_dict[key]\n",
    "    print('key =',key)\n",
    "    print('value =',value)\n",
    "    print()"
   ]
  },
  {
   "cell_type": "code",
   "execution_count": 23,
   "id": "6760648d",
   "metadata": {},
   "outputs": [
    {
     "name": "stdout",
     "output_type": "stream",
     "text": [
      "We have an apple!\n"
     ]
    }
   ],
   "source": [
    "if 'strawberry' in a_list:\n",
    "    print('We have a strawberry!')\n",
    "elif a_list[5]=='apple':\n",
    "    print('We have an apple!')\n",
    "else:\n",
    "    print('Not much fruit here!')"
   ]
  },
  {
   "cell_type": "code",
   "execution_count": 24,
   "id": "7458671c",
   "metadata": {},
   "outputs": [],
   "source": [
    "import numpy"
   ]
  },
  {
   "cell_type": "code",
   "execution_count": 25,
   "id": "473e88fb",
   "metadata": {},
   "outputs": [
    {
     "data": {
      "text/plain": [
       "1.0"
      ]
     },
     "execution_count": 25,
     "metadata": {},
     "output_type": "execute_result"
    }
   ],
   "source": [
    "numpy.sin( numpy.pi/2 )"
   ]
  },
  {
   "cell_type": "code",
   "execution_count": 26,
   "id": "02e37bac",
   "metadata": {},
   "outputs": [
    {
     "data": {
      "text/plain": [
       "1.0"
      ]
     },
     "execution_count": 26,
     "metadata": {},
     "output_type": "execute_result"
    }
   ],
   "source": [
    "import numpy as np\n",
    "\n",
    "np.sin( np.pi/2 )"
   ]
  },
  {
   "cell_type": "code",
   "execution_count": 27,
   "id": "af9341e5",
   "metadata": {},
   "outputs": [],
   "source": [
    "from numpy import *"
   ]
  },
  {
   "cell_type": "code",
   "execution_count": 28,
   "id": "38dffcd7",
   "metadata": {},
   "outputs": [
    {
     "data": {
      "text/plain": [
       "1.0"
      ]
     },
     "execution_count": 28,
     "metadata": {},
     "output_type": "execute_result"
    }
   ],
   "source": [
    "sin( pi/2 )"
   ]
  },
  {
   "cell_type": "markdown",
   "id": "4c511b42",
   "metadata": {},
   "source": [
    "If you want to do trigonometry, linear algebra, etc, you can use numpy. For plotting, use matplotlib. For graph theory, use networkx. For quantum computing, use qiskit. For whatever you want, there will probably be a package to help you do it."
   ]
  },
  {
   "cell_type": "code",
   "execution_count": 30,
   "id": "ae627928",
   "metadata": {},
   "outputs": [],
   "source": [
    "def do_some_maths ( Input1, Input2 ):\n",
    "    the_answer = Input1 + Input2\n",
    "    return the_answer"
   ]
  },
  {
   "cell_type": "code",
   "execution_count": 31,
   "id": "9e31e923",
   "metadata": {},
   "outputs": [
    {
     "name": "stdout",
     "output_type": "stream",
     "text": [
      "73\n"
     ]
    }
   ],
   "source": [
    "x = do_some_maths(1,72)\n",
    "print(x)"
   ]
  },
  {
   "cell_type": "code",
   "execution_count": 32,
   "id": "f493739f",
   "metadata": {},
   "outputs": [],
   "source": [
    "def add_sausages ( input_list ):\n",
    "    if 'sausages' not in input_list:\n",
    "        input_list.append('sausages')"
   ]
  },
  {
   "cell_type": "code",
   "execution_count": 33,
   "id": "4aeeb14c",
   "metadata": {},
   "outputs": [
    {
     "name": "stdout",
     "output_type": "stream",
     "text": [
      "List before the function\n",
      "[42, 0.5, True, [0, 1], None, 'apple', 3.14]\n",
      "\n",
      "List after the function\n",
      "[42, 0.5, True, [0, 1], None, 'apple', 3.14, 'sausages']\n"
     ]
    }
   ],
   "source": [
    "print('List before the function')\n",
    "print(a_list)\n",
    "\n",
    "add_sausages(a_list) # function called without an output\n",
    "\n",
    "print('\\nList after the function')\n",
    "print(a_list)"
   ]
  },
  {
   "cell_type": "code",
   "execution_count": 35,
   "id": "f61191aa",
   "metadata": {},
   "outputs": [],
   "source": [
    "# Randomness can be generated using the random package.\n",
    "\n",
    "\n",
    "import random"
   ]
  },
  {
   "cell_type": "code",
   "execution_count": 36,
   "id": "6932c2c0",
   "metadata": {},
   "outputs": [
    {
     "name": "stdout",
     "output_type": "stream",
     "text": [
      "* Results from sample 1\n",
      "\n",
      "    Random number from 0 to 1: 0.7376732558833723\n",
      "\n",
      "    Random choice from our list: sausages\n",
      "\n",
      "\n",
      "* Results from sample 2\n",
      "\n",
      "    Random number from 0 to 1: 0.28680987831960847\n",
      "\n",
      "    Random choice from our list: apple\n",
      "\n",
      "\n",
      "* Results from sample 3\n",
      "\n",
      "    Random number from 0 to 1: 0.9263885184734227\n",
      "\n",
      "    Random choice from our list: True\n",
      "\n",
      "\n",
      "* Results from sample 4\n",
      "\n",
      "    Random number from 0 to 1: 0.8485060053617409\n",
      "\n",
      "    Random choice from our list: 3.14\n",
      "\n",
      "\n",
      "* Results from sample 5\n",
      "\n",
      "    Random number from 0 to 1: 0.9957280330723379\n",
      "\n",
      "    Random choice from our list: 0.5\n",
      "\n",
      "\n"
     ]
    }
   ],
   "source": [
    "for j in range(5):\n",
    "    print('* Results from sample',j+1)\n",
    "    print('\\n    Random number from 0 to 1:', random.random() )\n",
    "    print(\"\\n    Random choice from our list:\", random.choice( a_list ) )\n",
    "    print('\\n')"
   ]
  },
  {
   "cell_type": "markdown",
   "id": "f149d8c1",
   "metadata": {},
   "source": [
    "# Quantum States and Qubits"
   ]
  },
  {
   "cell_type": "markdown",
   "id": "d3cd0849",
   "metadata": {},
   "source": [
    "## Introduction"
   ]
  },
  {
   "cell_type": "markdown",
   "id": "9fccee0f",
   "metadata": {},
   "source": [
    "## The Atoms of Computation"
   ]
  },
  {
   "cell_type": "code",
   "execution_count": 37,
   "id": "8f2003e1",
   "metadata": {},
   "outputs": [],
   "source": [
    "from qiskit import QuantumCircuit, assemble, Aer\n",
    "from qiskit.visualization import plot_histogram"
   ]
  },
  {
   "cell_type": "code",
   "execution_count": 38,
   "id": "40eb1889",
   "metadata": {},
   "outputs": [
    {
     "data": {
      "application/vnd.jupyter.widget-view+json": {
       "model_id": "cff7c51f8a3a497ea2b7bd2fd6afa0d9",
       "version_major": 2,
       "version_minor": 0
      },
      "text/plain": [
       "VBox(children=(Label(value='Toggle the bits below to change the binary number.'), Label(value='Think of a numb…"
      ]
     },
     "metadata": {},
     "output_type": "display_data"
    },
    {
     "data": {
      "application/vnd.jupyter.widget-view+json": {
       "model_id": "d6364858dee14e9c9e0d4874d0b4d841",
       "version_major": 2,
       "version_minor": 0
      },
      "text/plain": [
       "HTML(value='<pre>Binary   Decimal\\n 00000 = 0</pre>')"
      ]
     },
     "metadata": {},
     "output_type": "display_data"
    }
   ],
   "source": [
    "# 1. Splitting inforamtion into bits\n",
    "\n",
    "from qiskit_textbook.widgets import binary_widget\n",
    "binary_widget(nbits=5)"
   ]
  },
  {
   "cell_type": "code",
   "execution_count": 39,
   "id": "a5b56246",
   "metadata": {},
   "outputs": [],
   "source": [
    "# 2. Computation as a diagram\n",
    "\n",
    "# S = XOR(A, B)\n",
    "# 1 = (1, 0) (0, 1)\n",
    "# 0 = (1, 1) (0, 0)\n",
    "\n",
    "# C = AND(A, B)\n",
    "# 1 = (1, 1)\n",
    "# 0 = (1, 0) (0, 1) (0, 0)"
   ]
  },
  {
   "cell_type": "code",
   "execution_count": 40,
   "id": "cb456c6d",
   "metadata": {},
   "outputs": [],
   "source": [
    "# 3. Your first quantum circuit\n",
    "\n",
    "qc_output = QuantumCircuit(8) # number of qubits in Q-circuit is 8"
   ]
  },
  {
   "cell_type": "code",
   "execution_count": 41,
   "id": "287d8619",
   "metadata": {},
   "outputs": [],
   "source": [
    "qc_output.measure_all()"
   ]
  },
  {
   "cell_type": "code",
   "execution_count": 42,
   "id": "bc22a081",
   "metadata": {},
   "outputs": [
    {
     "data": {
      "text/html": [
       "<pre style=\"word-wrap: normal;white-space: pre;background: #fff0;line-height: 1.1;font-family: &quot;Courier New&quot;,Courier,monospace\">           ░ ┌─┐                     \n",
       "  q_0: |0>─░─┤M├─────────────────────\n",
       "           ░ └╥┘┌─┐                  \n",
       "  q_1: |0>─░──╫─┤M├──────────────────\n",
       "           ░  ║ └╥┘┌─┐               \n",
       "  q_2: |0>─░──╫──╫─┤M├───────────────\n",
       "           ░  ║  ║ └╥┘┌─┐            \n",
       "  q_3: |0>─░──╫──╫──╫─┤M├────────────\n",
       "           ░  ║  ║  ║ └╥┘┌─┐         \n",
       "  q_4: |0>─░──╫──╫──╫──╫─┤M├─────────\n",
       "           ░  ║  ║  ║  ║ └╥┘┌─┐      \n",
       "  q_5: |0>─░──╫──╫──╫──╫──╫─┤M├──────\n",
       "           ░  ║  ║  ║  ║  ║ └╥┘┌─┐   \n",
       "  q_6: |0>─░──╫──╫──╫──╫──╫──╫─┤M├───\n",
       "           ░  ║  ║  ║  ║  ║  ║ └╥┘┌─┐\n",
       "  q_7: |0>─░──╫──╫──╫──╫──╫──╫──╫─┤M├\n",
       "           ░  ║  ║  ║  ║  ║  ║  ║ └╥┘\n",
       "meas: 0 8/════╩══╩══╩══╩══╩══╩══╩══╩═\n",
       "              0  1  2  3  4  5  6  7 </pre>"
      ],
      "text/plain": [
       "           ░ ┌─┐                     \n",
       "  q_0: |0>─░─┤M├─────────────────────\n",
       "           ░ └╥┘┌─┐                  \n",
       "  q_1: |0>─░──╫─┤M├──────────────────\n",
       "           ░  ║ └╥┘┌─┐               \n",
       "  q_2: |0>─░──╫──╫─┤M├───────────────\n",
       "           ░  ║  ║ └╥┘┌─┐            \n",
       "  q_3: |0>─░──╫──╫──╫─┤M├────────────\n",
       "           ░  ║  ║  ║ └╥┘┌─┐         \n",
       "  q_4: |0>─░──╫──╫──╫──╫─┤M├─────────\n",
       "           ░  ║  ║  ║  ║ └╥┘┌─┐      \n",
       "  q_5: |0>─░──╫──╫──╫──╫──╫─┤M├──────\n",
       "           ░  ║  ║  ║  ║  ║ └╥┘┌─┐   \n",
       "  q_6: |0>─░──╫──╫──╫──╫──╫──╫─┤M├───\n",
       "           ░  ║  ║  ║  ║  ║  ║ └╥┘┌─┐\n",
       "  q_7: |0>─░──╫──╫──╫──╫──╫──╫──╫─┤M├\n",
       "           ░  ║  ║  ║  ║  ║  ║  ║ └╥┘\n",
       "meas: 0 8/════╩══╩══╩══╩══╩══╩══╩══╩═\n",
       "              0  1  2  3  4  5  6  7 "
      ]
     },
     "execution_count": 42,
     "metadata": {},
     "output_type": "execute_result"
    }
   ],
   "source": [
    "qc_output.draw(initial_state=True)"
   ]
  },
  {
   "cell_type": "markdown",
   "id": "66f0f59f",
   "metadata": {},
   "source": [
    "Qubits are always initialized to give the output 0. Since we don't do anything to our qubits in the circuit above, this is exactly the result we'll get when we measure them. We can see this by running the circuit many times and plotting the results in a histogram. We will find that the result is always 0: a 0 from each qubit."
   ]
  },
  {
   "cell_type": "code",
   "execution_count": 43,
   "id": "00ee108f",
   "metadata": {},
   "outputs": [
    {
     "data": {
      "image/png": "[encoded data removed]",
      "text/plain": [
       "<Figure size 700x500 with 1 Axes>"
      ]
     },
     "execution_count": 43,
     "metadata": {},
     "output_type": "execute_result"
    }
   ],
   "source": [
    "sim = Aer.get_backend('aer_simulator') \n",
    "result = sim.run(qc_output).result()\n",
    "counts = result.get_counts()\n",
    "plot_histogram(counts)\n",
    "\n",
    "# runs 1024 times, all 0 with certainty\n",
    "# results from a Q-SIMULATOR, not on real device"
   ]
  },
  {
   "cell_type": "markdown",
   "id": "aa7fdc83",
   "metadata": {},
   "source": [
    "To run on a real device you simply need to replace Aer.get_backend('aer_simulator') with the backend object of the device you want to use."
   ]
  },
  {
   "cell_type": "code",
   "execution_count": 44,
   "id": "e9f94b24",
   "metadata": {},
   "outputs": [
    {
     "data": {
      "text/html": [
       "<pre style=\"word-wrap: normal;white-space: pre;background: #fff0;line-height: 1.1;font-family: &quot;Courier New&quot;,Courier,monospace\">          \n",
       "q_0: ─────\n",
       "          \n",
       "q_1: ─────\n",
       "          \n",
       "q_2: ─────\n",
       "          \n",
       "q_3: ─────\n",
       "          \n",
       "q_4: ─────\n",
       "          \n",
       "q_5: ─────\n",
       "          \n",
       "q_6: ─────\n",
       "     ┌───┐\n",
       "q_7: ┤ X ├\n",
       "     └───┘</pre>"
      ],
      "text/plain": [
       "          \n",
       "q_0: ─────\n",
       "          \n",
       "q_1: ─────\n",
       "          \n",
       "q_2: ─────\n",
       "          \n",
       "q_3: ─────\n",
       "          \n",
       "q_4: ─────\n",
       "          \n",
       "q_5: ─────\n",
       "          \n",
       "q_6: ─────\n",
       "     ┌───┐\n",
       "q_7: ┤ X ├\n",
       "     └───┘"
      ]
     },
     "execution_count": 44,
     "metadata": {},
     "output_type": "execute_result"
    }
   ],
   "source": [
    "# 4. Example: Creating an Adder Circuit\n",
    "\n",
    "# 4.1 Encoding an input\n",
    "qc_encode = QuantumCircuit(8)\n",
    "qc_encode.x(7) # x is NOT operator\n",
    "qc_encode.draw()"
   ]
  },
  {
   "cell_type": "code",
   "execution_count": 45,
   "id": "8ce60fb0",
   "metadata": {},
   "outputs": [
    {
     "data": {
      "text/html": [
       "<pre style=\"word-wrap: normal;white-space: pre;background: #fff0;line-height: 1.1;font-family: &quot;Courier New&quot;,Courier,monospace\">              ░ ┌─┐                     \n",
       "   q_0: ──────░─┤M├─────────────────────\n",
       "              ░ └╥┘┌─┐                  \n",
       "   q_1: ──────░──╫─┤M├──────────────────\n",
       "              ░  ║ └╥┘┌─┐               \n",
       "   q_2: ──────░──╫──╫─┤M├───────────────\n",
       "              ░  ║  ║ └╥┘┌─┐            \n",
       "   q_3: ──────░──╫──╫──╫─┤M├────────────\n",
       "              ░  ║  ║  ║ └╥┘┌─┐         \n",
       "   q_4: ──────░──╫──╫──╫──╫─┤M├─────────\n",
       "              ░  ║  ║  ║  ║ └╥┘┌─┐      \n",
       "   q_5: ──────░──╫──╫──╫──╫──╫─┤M├──────\n",
       "              ░  ║  ║  ║  ║  ║ └╥┘┌─┐   \n",
       "   q_6: ──────░──╫──╫──╫──╫──╫──╫─┤M├───\n",
       "        ┌───┐ ░  ║  ║  ║  ║  ║  ║ └╥┘┌─┐\n",
       "   q_7: ┤ X ├─░──╫──╫──╫──╫──╫──╫──╫─┤M├\n",
       "        └───┘ ░  ║  ║  ║  ║  ║  ║  ║ └╥┘\n",
       "meas: 8/═════════╩══╩══╩══╩══╩══╩══╩══╩═\n",
       "                 0  1  2  3  4  5  6  7 </pre>"
      ],
      "text/plain": [
       "              ░ ┌─┐                     \n",
       "   q_0: ──────░─┤M├─────────────────────\n",
       "              ░ └╥┘┌─┐                  \n",
       "   q_1: ──────░──╫─┤M├──────────────────\n",
       "              ░  ║ └╥┘┌─┐               \n",
       "   q_2: ──────░──╫──╫─┤M├───────────────\n",
       "              ░  ║  ║ └╥┘┌─┐            \n",
       "   q_3: ──────░──╫──╫──╫─┤M├────────────\n",
       "              ░  ║  ║  ║ └╥┘┌─┐         \n",
       "   q_4: ──────░──╫──╫──╫──╫─┤M├─────────\n",
       "              ░  ║  ║  ║  ║ └╥┘┌─┐      \n",
       "   q_5: ──────░──╫──╫──╫──╫──╫─┤M├──────\n",
       "              ░  ║  ║  ║  ║  ║ └╥┘┌─┐   \n",
       "   q_6: ──────░──╫──╫──╫──╫──╫──╫─┤M├───\n",
       "        ┌───┐ ░  ║  ║  ║  ║  ║  ║ └╥┘┌─┐\n",
       "   q_7: ┤ X ├─░──╫──╫──╫──╫──╫──╫──╫─┤M├\n",
       "        └───┘ ░  ║  ║  ║  ║  ║  ║  ║ └╥┘\n",
       "meas: 8/═════════╩══╩══╩══╩══╩══╩══╩══╩═\n",
       "                 0  1  2  3  4  5  6  7 "
      ]
     },
     "execution_count": 45,
     "metadata": {},
     "output_type": "execute_result"
    }
   ],
   "source": [
    "qc_encode.measure_all()\n",
    "qc_encode.draw()"
   ]
  },
  {
   "cell_type": "code",
   "execution_count": 46,
   "id": "7c160238",
   "metadata": {},
   "outputs": [
    {
     "data": {
      "image/png": "[encoded data removed]",
      "text/plain": [
       "<Figure size 700x500 with 1 Axes>"
      ]
     },
     "execution_count": 46,
     "metadata": {},
     "output_type": "execute_result"
    }
   ],
   "source": [
    "sim = Aer.get_backend('aer_simulator') \n",
    "result = sim.run(qc_encode).result()\n",
    "counts = result.get_counts()\n",
    "plot_histogram(counts)\n",
    "\n",
    "# changed to 10000000 with certainty"
   ]
  },
  {
   "cell_type": "markdown",
   "id": "f6c43418",
   "metadata": {},
   "source": [
    "The bit we flipped, which comes from qubit 7, lives on the far left of the string. This is because Qiskit numbers the bits in a string from right to left. Some prefer to number their bits the other way around, but Qiskit's system certainly has its advantages when we are using the bits to represent numbers. Specifically, it means that qubit 7 is telling us about how many 2^7s we have in our number."
   ]
  },
  {
   "cell_type": "code",
   "execution_count": 52,
   "id": "76bab93f",
   "metadata": {},
   "outputs": [
    {
     "data": {
      "text/html": [
       "<pre style=\"word-wrap: normal;white-space: pre;background: #fff0;line-height: 1.1;font-family: &quot;Courier New&quot;,Courier,monospace\">          \n",
       "q_0: ─────\n",
       "     ┌───┐\n",
       "q_1: ┤ X ├\n",
       "     └───┘\n",
       "q_2: ─────\n",
       "          \n",
       "q_3: ─────\n",
       "          \n",
       "q_4: ─────\n",
       "     ┌───┐\n",
       "q_5: ┤ X ├\n",
       "     └───┘\n",
       "q_6: ─────\n",
       "          \n",
       "q_7: ─────\n",
       "          </pre>"
      ],
      "text/plain": [
       "          \n",
       "q_0: ─────\n",
       "     ┌───┐\n",
       "q_1: ┤ X ├\n",
       "     └───┘\n",
       "q_2: ─────\n",
       "          \n",
       "q_3: ─────\n",
       "          \n",
       "q_4: ─────\n",
       "     ┌───┐\n",
       "q_5: ┤ X ├\n",
       "     └───┘\n",
       "q_6: ─────\n",
       "          \n",
       "q_7: ─────\n",
       "          "
      ]
     },
     "execution_count": 52,
     "metadata": {},
     "output_type": "execute_result"
    }
   ],
   "source": [
    "qc_encode = QuantumCircuit(8)\n",
    "qc_encode.x(1)\n",
    "qc_encode.x(5)\n",
    "\n",
    "qc_encode.draw()"
   ]
  },
  {
   "cell_type": "code",
   "execution_count": 53,
   "id": "889fd483",
   "metadata": {},
   "outputs": [
    {
     "data": {
      "text/html": [
       "<pre style=\"word-wrap: normal;white-space: pre;background: #fff0;line-height: 1.1;font-family: &quot;Courier New&quot;,Courier,monospace\">              ░ ┌─┐                     \n",
       "   q_0: ──────░─┤M├─────────────────────\n",
       "        ┌───┐ ░ └╥┘┌─┐                  \n",
       "   q_1: ┤ X ├─░──╫─┤M├──────────────────\n",
       "        └───┘ ░  ║ └╥┘┌─┐               \n",
       "   q_2: ──────░──╫──╫─┤M├───────────────\n",
       "              ░  ║  ║ └╥┘┌─┐            \n",
       "   q_3: ──────░──╫──╫──╫─┤M├────────────\n",
       "              ░  ║  ║  ║ └╥┘┌─┐         \n",
       "   q_4: ──────░──╫──╫──╫──╫─┤M├─────────\n",
       "        ┌───┐ ░  ║  ║  ║  ║ └╥┘┌─┐      \n",
       "   q_5: ┤ X ├─░──╫──╫──╫──╫──╫─┤M├──────\n",
       "        └───┘ ░  ║  ║  ║  ║  ║ └╥┘┌─┐   \n",
       "   q_6: ──────░──╫──╫──╫──╫──╫──╫─┤M├───\n",
       "              ░  ║  ║  ║  ║  ║  ║ └╥┘┌─┐\n",
       "   q_7: ──────░──╫──╫──╫──╫──╫──╫──╫─┤M├\n",
       "              ░  ║  ║  ║  ║  ║  ║  ║ └╥┘\n",
       "meas: 8/═════════╩══╩══╩══╩══╩══╩══╩══╩═\n",
       "                 0  1  2  3  4  5  6  7 </pre>"
      ],
      "text/plain": [
       "              ░ ┌─┐                     \n",
       "   q_0: ──────░─┤M├─────────────────────\n",
       "        ┌───┐ ░ └╥┘┌─┐                  \n",
       "   q_1: ┤ X ├─░──╫─┤M├──────────────────\n",
       "        └───┘ ░  ║ └╥┘┌─┐               \n",
       "   q_2: ──────░──╫──╫─┤M├───────────────\n",
       "              ░  ║  ║ └╥┘┌─┐            \n",
       "   q_3: ──────░──╫──╫──╫─┤M├────────────\n",
       "              ░  ║  ║  ║ └╥┘┌─┐         \n",
       "   q_4: ──────░──╫──╫──╫──╫─┤M├─────────\n",
       "        ┌───┐ ░  ║  ║  ║  ║ └╥┘┌─┐      \n",
       "   q_5: ┤ X ├─░──╫──╫──╫──╫──╫─┤M├──────\n",
       "        └───┘ ░  ║  ║  ║  ║  ║ └╥┘┌─┐   \n",
       "   q_6: ──────░──╫──╫──╫──╫──╫──╫─┤M├───\n",
       "              ░  ║  ║  ║  ║  ║  ║ └╥┘┌─┐\n",
       "   q_7: ──────░──╫──╫──╫──╫──╫──╫──╫─┤M├\n",
       "              ░  ║  ║  ║  ║  ║  ║  ║ └╥┘\n",
       "meas: 8/═════════╩══╩══╩══╩══╩══╩══╩══╩═\n",
       "                 0  1  2  3  4  5  6  7 "
      ]
     },
     "execution_count": 53,
     "metadata": {},
     "output_type": "execute_result"
    }
   ],
   "source": [
    "qc_encode.measure_all()\n",
    "qc_encode.draw()"
   ]
  },
  {
   "cell_type": "code",
   "execution_count": 54,
   "id": "7bf3aa81",
   "metadata": {},
   "outputs": [
    {
     "data": {
      "image/png": "[encoded data removed]",
      "text/plain": [
       "<Figure size 700x500 with 1 Axes>"
      ]
     },
     "execution_count": 54,
     "metadata": {},
     "output_type": "execute_result"
    }
   ],
   "source": [
    "sim = Aer.get_backend('aer_simulator') \n",
    "result = sim.run(qc_encode).result()\n",
    "counts = result.get_counts()\n",
    "plot_histogram(counts)\n",
    "\n",
    "# changed to 00100010 with certainty"
   ]
  },
  {
   "cell_type": "code",
   "execution_count": 89,
   "id": "d3a989a1",
   "metadata": {},
   "outputs": [
    {
     "data": {
      "text/html": [
       "<pre style=\"word-wrap: normal;white-space: pre;background: #fff0;line-height: 1.1;font-family: &quot;Courier New&quot;,Courier,monospace\">          \n",
       "q_0: ──■──\n",
       "     ┌─┴─┐\n",
       "q_1: ┤ X ├\n",
       "     └───┘</pre>"
      ],
      "text/plain": [
       "          \n",
       "q_0: ──■──\n",
       "     ┌─┴─┐\n",
       "q_1: ┤ X ├\n",
       "     └───┘"
      ]
     },
     "execution_count": 89,
     "metadata": {},
     "output_type": "execute_result"
    }
   ],
   "source": [
    "# 4.2 Remembering how to add\n",
    "\n",
    "# ones: XOR -> CNOT (controlled NOT)\n",
    "# tens: AND\n",
    "\n",
    "#4.3 Adding with Qiskit\n",
    "\n",
    "qc_cnot = QuantumCircuit(2)\n",
    "qc_cnot.cx(0,1)\n",
    "qc_cnot.draw()\n"
   ]
  },
  {
   "cell_type": "code",
   "execution_count": 90,
   "id": "e0f07d4f",
   "metadata": {},
   "outputs": [
    {
     "data": {
      "text/html": [
       "<pre style=\"word-wrap: normal;white-space: pre;background: #fff0;line-height: 1.1;font-family: &quot;Courier New&quot;,Courier,monospace\">              ░ ┌─┐   \n",
       "   q_0: ──■───░─┤M├───\n",
       "        ┌─┴─┐ ░ └╥┘┌─┐\n",
       "   q_1: ┤ X ├─░──╫─┤M├\n",
       "        └───┘ ░  ║ └╥┘\n",
       "meas: 2/═════════╩══╩═\n",
       "                 0  1 </pre>"
      ],
      "text/plain": [
       "              ░ ┌─┐   \n",
       "   q_0: ──■───░─┤M├───\n",
       "        ┌─┴─┐ ░ └╥┘┌─┐\n",
       "   q_1: ┤ X ├─░──╫─┤M├\n",
       "        └───┘ ░  ║ └╥┘\n",
       "meas: 2/═════════╩══╩═\n",
       "                 0  1 "
      ]
     },
     "execution_count": 90,
     "metadata": {},
     "output_type": "execute_result"
    }
   ],
   "source": [
    "qc_cnot.measure_all()\n",
    "qc_cnot.draw()"
   ]
  },
  {
   "cell_type": "code",
   "execution_count": 94,
   "id": "b51fb06d",
   "metadata": {},
   "outputs": [
    {
     "data": {
      "text/html": [
       "<pre style=\"word-wrap: normal;white-space: pre;background: #fff0;line-height: 1.1;font-family: &quot;Courier New&quot;,Courier,monospace\">        ┌───┐      ░ ┌─┐   \n",
       "   q_0: ┤ X ├──■───░─┤M├───\n",
       "        └───┘┌─┴─┐ ░ └╥┘┌─┐\n",
       "   q_1: ─────┤ X ├─░──╫─┤M├\n",
       "             └───┘ ░  ║ └╥┘\n",
       "   c: 2/══════════════╬══╬═\n",
       "                      ║  ║ \n",
       "meas: 2/══════════════╩══╩═\n",
       "                      0  1 </pre>"
      ],
      "text/plain": [
       "        ┌───┐      ░ ┌─┐   \n",
       "   q_0: ┤ X ├──■───░─┤M├───\n",
       "        └───┘┌─┴─┐ ░ └╥┘┌─┐\n",
       "   q_1: ─────┤ X ├─░──╫─┤M├\n",
       "             └───┘ ░  ║ └╥┘\n",
       "   c: 2/══════════════╬══╬═\n",
       "                      ║  ║ \n",
       "meas: 2/══════════════╩══╩═\n",
       "                      0  1 "
      ]
     },
     "execution_count": 94,
     "metadata": {},
     "output_type": "execute_result"
    }
   ],
   "source": [
    "qc = QuantumCircuit(2,2)\n",
    "qc.x(0)\n",
    "qc.cx(0,1) # CNOT 0 controls 1\n",
    "# qc.measure_all()\n",
    "qc.measure(0,0)\n",
    "qc.measure(1,1)\n",
    "qc.draw()"
   ]
  },
  {
   "cell_type": "code",
   "execution_count": 95,
   "id": "9ccaed1b",
   "metadata": {},
   "outputs": [
    {
     "data": {
      "image/png": "[encoded data removed]",
      "text/plain": [
       "<Figure size 700x500 with 1 Axes>"
      ]
     },
     "execution_count": 95,
     "metadata": {},
     "output_type": "execute_result"
    }
   ],
   "source": [
    "sim = Aer.get_backend('aer_simulator') \n",
    "result = sim.run(qc).result()\n",
    "counts = result.get_counts()\n",
    "plot_histogram(counts)"
   ]
  },
  {
   "cell_type": "code",
   "execution_count": null,
   "id": "c7989b72",
   "metadata": {},
   "outputs": [],
   "source": []
  }
 ],
 "metadata": {
  "kernelspec": {
   "display_name": "Python 3 (ipykernel)",
   "language": "python",
   "name": "python3"
  },
  "language_info": {
   "codemirror_mode": {
    "name": "ipython",
    "version": 3
   },
   "file_extension": ".py",
   "mimetype": "text/x-python",
   "name": "python",
   "nbconvert_exporter": "python",
   "pygments_lexer": "ipython3",
   "version": "3.11.3"
  }
 },
 "nbformat": 4,
 "nbformat_minor": 5
}
